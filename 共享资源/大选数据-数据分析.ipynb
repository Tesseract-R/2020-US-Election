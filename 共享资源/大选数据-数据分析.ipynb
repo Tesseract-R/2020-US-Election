{
 "cells": [
  {
   "cell_type": "markdown",
   "metadata": {},
   "source": [
    "# 分析人口分布\n",
    "读取Nevada人口数  \n",
    "Nevada_Population.xlsx"
   ]
  },
  {
   "cell_type": "code",
   "execution_count": 43,
   "metadata": {},
   "outputs": [],
   "source": [
    "import xlrd\n",
    "import pandas as pd\n",
    "import geopandas as gpd\n",
    "from matplotlib import pyplot as plt"
   ]
  },
  {
   "cell_type": "code",
   "execution_count": 44,
   "metadata": {},
   "outputs": [],
   "source": [
    "path1 = r'E:\\Study\\SSPKU\\python\\小组课题\\USA_Cities_Towns\\USA_Cities_Towns.shp'\n",
    "usa_city = gpd.read_file(path1)\n",
    "nv_city = usa_city[usa_city['ST']=='NV']\n",
    "\n",
    "path = r'E:\\Study\\SSPKU\\python\\小组课题\\共享资源\\Nevada_Population.xlsx'\n",
    "data = pd.read_excel(path)\n",
    "list1 = []\n",
    "for row,line in data.iterrows():\n",
    "    while line['City'] not in list(nv_city['AREANAME']):\n",
    "            name = line['City']\n",
    "            name = name.split(' ')\n",
    "            name = name[0:len(name)-1]\n",
    "            name = \" \".join(name)\n",
    "            line['City'] = name\n",
    "            if name == \"\": break\n",
    "\n",
    "    if line['City'] in list(nv_city['AREANAME']):\n",
    "        area = nv_city[nv_city['AREANAME']==line['City']]['geometry']\n",
    "        geometry = area.to_string().split('  ')[-1]\n",
    "        city = line['City']\n",
    "        population = line['Population']\n",
    "        list1.append({\"AREANAME\":city, \"Population\":population,\"geometry\":geometry})\n",
    "df = pd.DataFrame(list1,columns=['AREANAME','Population','geometry'])\n",
    "df.to_csv(r\"E:\\Study\\SSPKU\\python\\小组课题\\Nevada_population_cleaned.csv\", index=False)\n",
    "        "
   ]
  },
  {
   "cell_type": "code",
   "execution_count": 51,
   "metadata": {},
   "outputs": [
    {
     "data": {
      "text/plain": [
       "geopandas.geodataframe.GeoDataFrame"
      ]
     },
     "execution_count": 51,
     "metadata": {},
     "output_type": "execute_result"
    }
   ],
   "source": [
    "import pandas as pd\n",
    "import geopandas as gpd\n",
    "import matplotlib.pyplot as plt\n",
    "import numpy as np\n",
    "\n",
    "from shapely import geometry#判断空间坐标\n",
    "from jenkspy import jenks_breaks #数据分段\n",
    "from matplotlib import colors,cm #自定义色彩\n",
    "\n",
    "path2 = r'E:\\Study\\SSPKU\\python\\小组课题\\Nevada_population_cleaned.csv'\n",
    "path3 = r'E:\\Study\\SSPKU\\python\\小组课题\\USA_States\\USA_States.shp'\n",
    "usa_state = gpd.read_file(path3)\n",
    "nv_city = pd.read_csv(path2)\n",
    "df = gpd.GeoDataFrame(nv_city)\n",
    "\n",
    "nevada_map = usa_state[usa_state['STATE_NAME']=='Nevada']\n",
    "# nevada = nevada_map.plot()\n",
    "\n",
    "nevada_map['Population'] = 0\n",
    "for i in range(len(nevada_map)-1):\n",
    "    l = []\n",
    "    for j in range(len(df)-1):\n",
    "        if df['geometry'][j].within(nevada_map['geometry'][i]):\n",
    "            l.append(df['Population'][j])\n",
    "    nevada_map['Population'][i] = sum(l)/len(l)\n",
    "\n",
    "col = 'Population'\n",
    "nb_class = 3\n",
    "# bins = [-1] + jenks_breaks(nevada_map[col].values, nb_class=nb_class)\n",
    "\n",
    "# nevada_map[col+'_class'] = pd.cut(nevada_map[col], bins, labels=range(len(bins)-1))\n",
    "# nevada_map[col+'_class'] = nevada_map[col+'_class'].astype(int)\n",
    "# nevada_map[col+'_class'] = nevada_map[col+'_class'].values\n",
    "# df.plot(ax=nevada,color=\"red\", alpha=0.8, markersize=5)\n",
    "# plt.show()\n",
    "type(nevada_map)"
   ]
  },
  {
   "cell_type": "code",
   "execution_count": 41,
   "metadata": {},
   "outputs": [
    {
     "data": {
      "text/plain": [
       "geopandas.geodataframe.GeoDataFrame"
      ]
     },
     "execution_count": 41,
     "metadata": {},
     "output_type": "execute_result"
    }
   ],
   "source": [
    "path1 = r'E:\\Study\\SSPKU\\python\\小组课题\\USA_Cities_Towns\\USA_Cities_Towns.shp'\n",
    "usa_city = gpd.read_file(path1)\n",
    "nv_city = usa_city[usa_city['ST']=='NV']\n",
    "type(nv_city)"
   ]
  },
  {
   "cell_type": "code",
   "execution_count": null,
   "metadata": {},
   "outputs": [],
   "source": []
  }
 ],
 "metadata": {
  "kernelspec": {
   "display_name": "Python 3",
   "language": "python",
   "name": "python3"
  },
  "language_info": {
   "codemirror_mode": {
    "name": "ipython",
    "version": 3
   },
   "file_extension": ".py",
   "mimetype": "text/x-python",
   "name": "python",
   "nbconvert_exporter": "python",
   "pygments_lexer": "ipython3",
   "version": "3.8.3"
  }
 },
 "nbformat": 4,
 "nbformat_minor": 4
}
