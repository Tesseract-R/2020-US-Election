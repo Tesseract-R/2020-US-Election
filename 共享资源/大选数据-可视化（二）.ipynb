{
 "cells": [
  {
   "cell_type": "markdown",
   "metadata": {},
   "source": [
    "## 数据分析 pyecharts图表\n",
    "\n",
    "生成每个州投票结果的饼图"
   ]
  },
  {
   "cell_type": "code",
   "execution_count": 39,
   "metadata": {},
   "outputs": [],
   "source": [
    "import pandas as pd\n",
    "from pyecharts import options as opts\n",
    "from pyecharts.charts import Geo\n",
    "from pyecharts.charts import Pie\n",
    "from pyecharts.faker import Faker\n",
    "\n",
    "state_name = ('Washington','Oregon','California','Alaska','Idaho','Nevada','Montana','Wyoming','Utah','Arizona','Hawaii','Colorado','New Mexico','North Dakota','South Dakota','Nebraska','Kansas','Oklahoma','Texas','Minnesota','Iowa','Missouri','Arkansas','Louisiana','Wisconsin','Michigan','Illinois','Indiana','Ohio','Kentucky','Tennessee','Mississippi','Alabama','Florida','Georgia','South Carolina','North Carolina','Virginia','West Virginia','Pennsylvania','New York','Maryland','Delaware','New Jersey','Vermont','New Hampshire','Massachusetts','Connecticut','Rhode Island','Maine','District of Columbia')\n",
    "\n",
    "for i in state_name:\n",
    "    \n",
    "    path = 'E:\\Study\\SSPKU\\python\\小组课题\\Election V67\\president_state_candidate.csv'\n",
    "    county_data = pd.read_csv(path)\n",
    "    state_data = county_data[county_data['state'] == i]\n",
    "\n",
    "\n",
    "    c = (\n",
    "        Pie(init_opts=opts.InitOpts(width=\"1895px\", height=\"790px\", bg_color=\"#2c343c\"))\n",
    "        .add(\"\", [['Joe',state_data['Joe'].tolist()],['Trump',state_data['Trump'].tolist()],['Other',state_data['Other'].tolist()]])\n",
    "        .set_colors([\"#2a5caa\", \"#f05b72\", \"#749f83\"])\n",
    "        .set_global_opts(\n",
    "            title_opts=opts.TitleOpts(\n",
    "                title = i,\n",
    "                pos_top=\"20\",\n",
    "                title_textstyle_opts=opts.TextStyleOpts(color=\"#fff\"),\n",
    "            ),\n",
    "            legend_opts=opts.LegendOpts(is_show=True),\n",
    "        )\n",
    "        .set_series_opts(label_opts=opts.LabelOpts(formatter=\"{b}: {c}\"))\n",
    "        .render(i + \".html\")\n",
    ")"
   ]
  }
 ],
 "metadata": {
  "kernelspec": {
   "display_name": "Python 3",
   "language": "python",
   "name": "python3"
  },
  "language_info": {
   "codemirror_mode": {
    "name": "ipython",
    "version": 3
   },
   "file_extension": ".py",
   "mimetype": "text/x-python",
   "name": "python",
   "nbconvert_exporter": "python",
   "pygments_lexer": "ipython3",
   "version": "3.8.3"
  }
 },
 "nbformat": 4,
 "nbformat_minor": 4
}
