{
 "cells": [
  {
   "cell_type": "code",
   "execution_count": 3,
   "metadata": {},
   "outputs": [],
   "source": [
    "import pandas as pd\n",
    "df = pd.read_csv(r'E:\\Study\\SSPKU\\python\\小组课题\\Election V67\\president_state_candidate.csv')\n",
    "df2 = pd.read_csv(r'E:\\Study\\SSPKU\\python\\小组课题\\economy_state.CSV')\n",
    "df3 = pd.read_csv(r'E:\\Study\\SSPKU\\python\\小组课题\\education_state.CSV')"
   ]
  },
  {
   "cell_type": "code",
   "execution_count": 11,
   "metadata": {},
   "outputs": [],
   "source": [
    "# 提取数据\n",
    "a1 = df['Joe']/df['total_votes']\n",
    "a_total = df['total_votes'].values.tolist()\n",
    "a1_state = df['state'].values.tolist()\n",
    "a1 = a1.values.tolist()\n",
    "gdp = []\n",
    "high_school = []\n",
    "bachelor = []\n",
    "advanced = []\n",
    "for i in a1_state:\n",
    "    value = df2[df2['state']==i]['GDPpercapita'].values\n",
    "    gdp.append(value[0])\n",
    "    value = df3[df3['state']==i]['high school'].values\n",
    "    high_school.append(value[0])\n",
    "    value = df3[df3['state']==i]['bachelor'].values\n",
    "    bachelor.append(value[0])\n",
    "    value = df3[df3['state']==i]['advanced'].values\n",
    "    advanced.append(value[0])"
   ]
  },
  {
   "cell_type": "code",
   "execution_count": 22,
   "metadata": {},
   "outputs": [
    {
     "data": {
      "text/plain": [
       "0.6702707120268266"
      ]
     },
     "execution_count": 22,
     "metadata": {},
     "output_type": "execute_result"
    }
   ],
   "source": [
    "# 计算人均GDP与民主党支持率的相关系数\n",
    "\n",
    "import numpy as np\n",
    "\n",
    "def corr(X,Y):\n",
    "    X_mean = np.mean(X)\n",
    "    Y_mean = np.mean(Y)\n",
    "    X_SD = np.std(X)\n",
    "    Y_SD = np.std(Y)\n",
    "    ZX = (X - X_mean)/X_SD\n",
    "    ZY = (Y - Y_mean)/Y_SD\n",
    "    r = np.sum(ZX*ZY)/(len(X))\n",
    "    return r\n",
    "\n",
    "\n",
    "corr(gdp,a1)"
   ]
  },
  {
   "cell_type": "code",
   "execution_count": 17,
   "metadata": {},
   "outputs": [
    {
     "data": {
      "text/plain": [
       "0.09043317392064062"
      ]
     },
     "execution_count": 17,
     "metadata": {},
     "output_type": "execute_result"
    }
   ],
   "source": [
    "# 计算高中毕业率与民主党支持率的相关系数\n",
    "\n",
    "corr(high_school,a1)"
   ]
  },
  {
   "cell_type": "code",
   "execution_count": 18,
   "metadata": {},
   "outputs": [
    {
     "data": {
      "text/plain": [
       "0.8110021334197982"
      ]
     },
     "execution_count": 18,
     "metadata": {},
     "output_type": "execute_result"
    }
   ],
   "source": [
    "# 计算本科毕业率与民主党支持率的相关系数\n",
    "\n",
    "corr(bachelor,a1)"
   ]
  },
  {
   "cell_type": "code",
   "execution_count": 87,
   "metadata": {},
   "outputs": [
    {
     "data": {
      "text/plain": [
       "0.8247706871169412"
      ]
     },
     "execution_count": 87,
     "metadata": {},
     "output_type": "execute_result"
    }
   ],
   "source": [
    "# 计算本科后学历与民主党支持率的相关系数\n",
    "\n",
    "corr(advanced,a1)"
   ]
  },
  {
   "cell_type": "code",
   "execution_count": 28,
   "metadata": {},
   "outputs": [
    {
     "data": {
      "text/plain": [
       "0.1984679644697063"
      ]
     },
     "execution_count": 28,
     "metadata": {},
     "output_type": "execute_result"
    }
   ],
   "source": [
    "# 人口数与支持率的关系\n",
    "\n",
    "population = []\n",
    "df_pop = pd.read_csv(r'E:\\Study\\SSPKU\\python\\小组课题\\population_state.csv')\n",
    "for i in a1_state:\n",
    "    value = df_pop[df_pop['State']==i]['Pop'].values\n",
    "    population.append(value[0])\n",
    "    \n",
    "corr(population,a1)"
   ]
  },
  {
   "cell_type": "code",
   "execution_count": 29,
   "metadata": {},
   "outputs": [
    {
     "data": {
      "text/plain": [
       "0.5712345668428038"
      ]
     },
     "execution_count": 29,
     "metadata": {},
     "output_type": "execute_result"
    }
   ],
   "source": [
    "# 人口密度与支持率的关系\n",
    "\n",
    "density = []\n",
    "df_pop = pd.read_csv(r'E:\\Study\\SSPKU\\python\\小组课题\\population_state.csv')\n",
    "for i in a1_state:\n",
    "    value = df_pop[df_pop['State']==i]['density'].values\n",
    "    density.append(value[0])\n",
    "    \n",
    "corr(density,a1)"
   ]
  },
  {
   "cell_type": "code",
   "execution_count": null,
   "metadata": {},
   "outputs": [],
   "source": []
  }
 ],
 "metadata": {
  "kernelspec": {
   "display_name": "Python 3",
   "language": "python",
   "name": "python3"
  },
  "language_info": {
   "codemirror_mode": {
    "name": "ipython",
    "version": 3
   },
   "file_extension": ".py",
   "mimetype": "text/x-python",
   "name": "python",
   "nbconvert_exporter": "python",
   "pygments_lexer": "ipython3",
   "version": "3.8.3"
  }
 },
 "nbformat": 4,
 "nbformat_minor": 4
}
